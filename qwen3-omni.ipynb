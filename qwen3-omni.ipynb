{
 "cells": [
  {
   "cell_type": "code",
   "execution_count": null,
   "id": "094c9e17-89e4-4123-8ec6-3165a7c4ef6c",
   "metadata": {},
   "outputs": [],
   "source": [
    "import torch\n",
    "from transformers import Qwen2_5OmniForConditionalGeneration, Qwen2_5OmniProcessor\n",
    "\n",
    "model_id = \"Qwen/Qwen2.5-Omni-3B\"\n",
    "\n",
    "processor = Qwen2_5OmniProcessor.from_pretrained(model_id)\n",
    "model = Qwen2_5OmniForConditionalGeneration.from_pretrained(\n",
    "    model_id,\n",
    "    torch_dtype=\"auto\",\n",
    "    device_map=\"auto\",\n",
    ")\n",
    "\n",
    "# 예시: 텍스트만 질의\n",
    "inputs = processor(text=\"안녕! 오늘 날씨 어때?\", return_tensors=\"pt\").to(model.device)\n",
    "out = model.generate(**inputs, max_new_tokens=64)\n",
    "print(processor.batch_decode(out, skip_special_tokens=True)[0])\n"
   ]
  }
 ],
 "metadata": {
  "kernelspec": {
   "display_name": "Python 3 (ipykernel)",
   "language": "python",
   "name": "python3"
  },
  "language_info": {
   "codemirror_mode": {
    "name": "ipython",
    "version": 3
   },
   "file_extension": ".py",
   "mimetype": "text/x-python",
   "name": "python",
   "nbconvert_exporter": "python",
   "pygments_lexer": "ipython3",
   "version": "3.12.3"
  }
 },
 "nbformat": 4,
 "nbformat_minor": 5
}
